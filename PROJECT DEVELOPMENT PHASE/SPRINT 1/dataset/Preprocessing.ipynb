{
 "cells": [
  {
   "cell_type": "code",
   "execution_count": 1,
   "id": "0240715a",
   "metadata": {},
   "outputs": [],
   "source": [
    "from sklearn.ensemble import RandomForestClassifier\n",
    "from sklearn.preprocessing import LabelEncoder\n",
    "from sklearn.metrics import confusion_matrix\n",
    "from skimage import feature\n",
    "from imutils import build_montages\n",
    "from imutils import paths\n",
    "import numpy as np\n",
    "import cv2\n",
    "import os\n",
    "import pickle "
   ]
  },
  {
   "cell_type": "code",
   "execution_count": 2,
   "id": "533a58fd",
   "metadata": {},
   "outputs": [],
   "source": [
    "def quantify_image(image):\n",
    "    features = feature.hog(image, orientations=9, pixels_per_cell=(10, 10), cells_per_block=(2, 2), transform_sqrt=True, block_norm=\"L1\")\n",
    "    return features"
   ]
  },
  {
   "cell_type": "code",
   "execution_count": 3,
   "id": "2610785f",
   "metadata": {},
   "outputs": [],
   "source": [
    "def load_split(path):\n",
    "    imagePaths = list(paths.list_images (path))\n",
    "    data = [] \n",
    "    labels = []\n",
    "    for imagePath in imagePaths:   \n",
    "        label = imagePath.split(os.path.sep)[-2]\n",
    "        image = cv2.imread(imagePath)\n",
    "        image = cv2.cvtColor(image, cv2.COLOR_BGR2GRAY) \n",
    "        image = cv2.resize(image, (200, 200))\n",
    "        image = cv2.threshold (image, 0, 255, cv2.THRESH_BINARY_INV | cv2.THRESH_OTSU)[1]\n",
    "        features=quantify_image (image)\n",
    "        data.append(features)\n",
    "        labels.append(label)\n",
    "    return (np.array(data), np.array(labels))"
   ]
  },
  {
   "cell_type": "code",
   "execution_count": 14,
   "id": "a5ee46c0",
   "metadata": {},
   "outputs": [],
   "source": [
    "trainingPathSpiral = r\"B:\\parkinson_wave_spiral\\dataset\\spiral\\training\"\n",
    "testingPathSpiral = r\"B:\\parkinson_wave_spiral\\dataset\\spiral\\testing\"\n",
    "(X_trainSpiral, y_trainSpiral) = load_split(trainingPathSpiral)\n",
    "(X_testSpiral, y_testSpiral) = load_split(testingPathSpiral)"
   ]
  },
  {
   "cell_type": "code",
   "execution_count": 15,
   "id": "fa2582c6",
   "metadata": {},
   "outputs": [
    {
     "data": {
      "text/plain": [
       "72"
      ]
     },
     "execution_count": 15,
     "metadata": {},
     "output_type": "execute_result"
    }
   ],
   "source": [
    "len(X_trainSpiral)"
   ]
  },
  {
   "cell_type": "code",
   "execution_count": 16,
   "id": "49e6e888",
   "metadata": {},
   "outputs": [],
   "source": [
    "trainingPathWave = r\"B:\\parkinson_wave_spiral\\dataset\\wave\\training\"\n",
    "testingPathWave = r\"B:\\parkinson_wave_spiral\\dataset\\wave\\testing\"\n",
    "(X_trainWave, y_trainWave) = load_split(trainingPathWave)\n",
    "(X_testWave, y_testWave) = load_split(testingPathWave)"
   ]
  },
  {
   "cell_type": "code",
   "execution_count": 17,
   "id": "4f472cb2",
   "metadata": {},
   "outputs": [
    {
     "name": "stdout",
     "output_type": "stream",
     "text": [
      "(72, 12996) (72,)\n"
     ]
    }
   ],
   "source": [
    "le=LabelEncoder()\n",
    "y_trainSpiral = le.fit_transform (y_trainSpiral) \n",
    "y_testSpiral = le.transform (y_testSpiral) \n",
    "print (X_trainSpiral. shape, y_trainSpiral.shape)"
   ]
  },
  {
   "cell_type": "code",
   "execution_count": 18,
   "id": "a9f1c31e",
   "metadata": {},
   "outputs": [
    {
     "name": "stdout",
     "output_type": "stream",
     "text": [
      "(72, 12996) (72,)\n"
     ]
    }
   ],
   "source": [
    "le=LabelEncoder()\n",
    "y_trainWave = le.fit_transform (y_trainWave) \n",
    "y_testWave = le.transform (y_testWave) \n",
    "print (X_trainWave. shape, y_trainWave.shape)"
   ]
  }
 ],
 "metadata": {
  "kernelspec": {
   "display_name": "Python 3 (ipykernel)",
   "language": "python",
   "name": "python3"
  },
  "language_info": {
   "codemirror_mode": {
    "name": "ipython",
    "version": 3
   },
   "file_extension": ".py",
   "mimetype": "text/x-python",
   "name": "python",
   "nbconvert_exporter": "python",
   "pygments_lexer": "ipython3",
   "version": "3.9.12"
  }
 },
 "nbformat": 4,
 "nbformat_minor": 5
}
